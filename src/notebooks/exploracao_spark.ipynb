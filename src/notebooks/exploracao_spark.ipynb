{
 "cells": [
  {
   "cell_type": "code",
   "execution_count": 1,
   "metadata": {},
   "outputs": [],
   "source": [
    "from pyspark.sql import SparkSession"
   ]
  },
  {
   "cell_type": "code",
   "execution_count": 2,
   "metadata": {},
   "outputs": [
    {
     "name": "stderr",
     "output_type": "stream",
     "text": [
      "Setting default log level to \"WARN\".\n",
      "To adjust logging level use sc.setLogLevel(newLevel). For SparkR, use setLogLevel(newLevel).\n"
     ]
    },
    {
     "name": "stdout",
     "output_type": "stream",
     "text": [
      "23/08/18 19:26:10 WARN NativeCodeLoader: Unable to load native-hadoop library for your platform... using builtin-java classes where applicable\n"
     ]
    }
   ],
   "source": [
    "spark = SparkSession\\\n",
    "    .builder\\\n",
    "    .appName(\"twitter_transformation\")\\\n",
    "    .getOrCreate()"
   ]
  },
  {
   "cell_type": "code",
   "execution_count": 5,
   "metadata": {},
   "outputs": [
    {
     "name": "stderr",
     "output_type": "stream",
     "text": [
      "                                                                                \r"
     ]
    }
   ],
   "source": [
    "df = spark.read.json(\"../../datalake/twitter_datascience\")"
   ]
  },
  {
   "cell_type": "code",
   "execution_count": 6,
   "metadata": {},
   "outputs": [
    {
     "name": "stdout",
     "output_type": "stream",
     "text": [
      "+--------------------+--------------------+------------------+------------+\n",
      "|                data|            includes|              meta|extract_date|\n",
      "+--------------------+--------------------+------------------+------------+\n",
      "|[{54, 71, 2023-07...|{[{2023-07-11T07:...|{1234567890abcdef}|  2023-07-11|\n",
      "|[{8, 86, 2023-07-...|{[{2023-07-11T10:...|{1234567890abcdef}|  2023-07-11|\n",
      "|[{51, 72, 2023-07...|{[{2023-07-11T03:...|{1234567890abcdef}|  2023-07-11|\n",
      "|[{82, 71, 2023-07...|{[{2023-07-11T00:...|{1234567890abcdef}|  2023-07-11|\n",
      "|[{2, 67, 2023-07-...|{[{2023-07-11T18:...|{1234567890abcdef}|  2023-07-11|\n",
      "|[{56, 67, 2023-07...|{[{2023-07-11T18:...|{1234567890abcdef}|  2023-07-11|\n",
      "|[{38, 78, 2023-07...|{[{2023-07-11T03:...|{1234567890abcdef}|  2023-07-11|\n",
      "|[{61, 38, 2023-07...|{[{2023-07-11T09:...|{1234567890abcdef}|  2023-07-11|\n",
      "|[{100, 61, 2023-0...|{[{2023-07-11T20:...|{1234567890abcdef}|  2023-07-11|\n",
      "|[{64, 48, 2023-07...|{[{2023-07-11T00:...|              null|  2023-07-11|\n",
      "|[{51, 27, 2023-08...|{[{2023-08-09T01:...|{1234567890abcdef}|  2023-08-09|\n",
      "|[{58, 89, 2023-08...|{[{2023-08-09T11:...|{1234567890abcdef}|  2023-08-09|\n",
      "|[{46, 39, 2023-08...|{[{2023-08-09T08:...|{1234567890abcdef}|  2023-08-09|\n",
      "|[{90, 92, 2023-08...|{[{2023-08-09T03:...|{1234567890abcdef}|  2023-08-09|\n",
      "|[{99, 35, 2023-08...|{[{2023-08-09T19:...|{1234567890abcdef}|  2023-08-09|\n",
      "|[{99, 20, 2023-08...|{[{2023-08-09T14:...|{1234567890abcdef}|  2023-08-09|\n",
      "|[{74, 61, 2023-08...|{[{2023-08-09T23:...|              null|  2023-08-09|\n",
      "|[{75, 85, 2023-08...|{[{2023-08-17T01:...|{1234567890abcdef}|  2023-08-17|\n",
      "|[{55, 40, 2023-08...|{[{2023-08-17T14:...|{1234567890abcdef}|  2023-08-17|\n",
      "|[{77, 9, 2023-08-...|{[{2023-08-17T23:...|{1234567890abcdef}|  2023-08-17|\n",
      "+--------------------+--------------------+------------------+------------+\n",
      "only showing top 20 rows\n",
      "\n"
     ]
    }
   ],
   "source": [
    "df.show()"
   ]
  },
  {
   "cell_type": "code",
   "execution_count": 7,
   "metadata": {},
   "outputs": [
    {
     "name": "stdout",
     "output_type": "stream",
     "text": [
      "root\n",
      " |-- data: array (nullable = true)\n",
      " |    |-- element: struct (containsNull = true)\n",
      " |    |    |-- author_id: string (nullable = true)\n",
      " |    |    |-- conversation_id: string (nullable = true)\n",
      " |    |    |-- created_at: string (nullable = true)\n",
      " |    |    |-- edit_history_tweet_ids: array (nullable = true)\n",
      " |    |    |    |-- element: long (containsNull = true)\n",
      " |    |    |-- id: string (nullable = true)\n",
      " |    |    |-- in_reply_to_user_id: string (nullable = true)\n",
      " |    |    |-- lang: string (nullable = true)\n",
      " |    |    |-- public_metrics: struct (nullable = true)\n",
      " |    |    |    |-- like_count: long (nullable = true)\n",
      " |    |    |    |-- quote_count: long (nullable = true)\n",
      " |    |    |    |-- reply_count: long (nullable = true)\n",
      " |    |    |    |-- retweet_count: long (nullable = true)\n",
      " |    |    |-- text: string (nullable = true)\n",
      " |-- includes: struct (nullable = true)\n",
      " |    |-- users: array (nullable = true)\n",
      " |    |    |-- element: struct (containsNull = true)\n",
      " |    |    |    |-- created_at: string (nullable = true)\n",
      " |    |    |    |-- id: string (nullable = true)\n",
      " |    |    |    |-- name: string (nullable = true)\n",
      " |    |    |    |-- username: string (nullable = true)\n",
      " |-- meta: struct (nullable = true)\n",
      " |    |-- next_token: string (nullable = true)\n",
      " |-- extract_date: date (nullable = true)\n",
      "\n"
     ]
    }
   ],
   "source": [
    "df.printSchema()"
   ]
  },
  {
   "cell_type": "code",
   "execution_count": 8,
   "metadata": {},
   "outputs": [],
   "source": [
    "from pyspark.sql import functions as F"
   ]
  },
  {
   "cell_type": "code",
   "execution_count": 16,
   "metadata": {},
   "outputs": [],
   "source": [
    "tweets_df = df.select(F.explode(\"data\").alias(\"tweets\"))\\\n",
    ".select(\"tweets.author_id\", \"tweets.conversation_id\",\n",
    "        \"tweets.created_at\", \"tweets.id\",\n",
    "        \"tweets.public_metrics.*\", \"tweets.text\")"
   ]
  },
  {
   "cell_type": "code",
   "execution_count": 22,
   "metadata": {},
   "outputs": [],
   "source": [
    "users_df = df.select(F.explode(\"includes.users\").alias(\"users\"))\\\n",
    "    .select(\"users.*\")"
   ]
  },
  {
   "cell_type": "code",
   "execution_count": 24,
   "metadata": {},
   "outputs": [],
   "source": [
    "tweets_df.coalesce(1).write.mode(\"overwrite\").json('output/tweet')\n",
    "users_df.coalesce(1).write.mode(\"overwrite\").json('output/user')\n"
   ]
  },
  {
   "cell_type": "code",
   "execution_count": null,
   "metadata": {},
   "outputs": [],
   "source": []
  }
 ],
 "metadata": {
  "kernelspec": {
   "display_name": "venv",
   "language": "python",
   "name": "python3"
  },
  "language_info": {
   "codemirror_mode": {
    "name": "ipython",
    "version": 3
   },
   "file_extension": ".py",
   "mimetype": "text/x-python",
   "name": "python",
   "nbconvert_exporter": "python",
   "pygments_lexer": "ipython3",
   "version": "3.9.17"
  },
  "orig_nbformat": 4
 },
 "nbformat": 4,
 "nbformat_minor": 2
}
